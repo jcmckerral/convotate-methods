{
 "cells": [
  {
   "cell_type": "markdown",
   "metadata": {},
   "source": [
    "# Example training notebook\n",
    "#### This is an example notebook to step through the data generation and model training process. The training will be much faster with a GPU. Required packages (python3) are:\n",
    "1. Numpy, pandas, random, scikit-learn, matplotlib\n",
    "2. Tensorflow, Keras"
   ]
  },
  {
   "cell_type": "markdown",
   "metadata": {},
   "source": [
    "### Module imports"
   ]
  },
  {
   "cell_type": "code",
   "execution_count": 1,
   "metadata": {
    "collapsed": false,
    "jupyter": {
     "outputs_hidden": false
    },
    "pycharm": {
     "is_executing": false,
     "name": "#%%\n"
    }
   },
   "outputs": [
    {
     "name": "stdout",
     "output_type": "stream",
     "text": [
      "Populating the interactive namespace from numpy and matplotlib\n"
     ]
    }
   ],
   "source": [
    "%pylab inline\n",
    "%config InlineBackend.figure_format = 'retina'\n",
    "import numpy as np\n",
    "import pandas as pd\n",
    "import random\n",
    "from sklearn.metrics import confusion_matrix\n",
    "from sklearn.metrics import classification_report\n",
    "import os \n",
    "import functools\n",
    "import time, timeit\n",
    "\n",
    "from sklearn.metrics import f1_score\n",
    "from sklearn.metrics import confusion_matrix\n",
    "from sklearn.metrics import classification_report"
   ]
  },
  {
   "cell_type": "markdown",
   "metadata": {},
   "source": [
    "### Import and config of tensorflow and GPU options.\n",
    "We recommend following the instructions on the Convotate git page for\n",
    "configuring the right Anaconda environment for your OS.\n",
    "Please note that tensorflow requires a GPU with cuda compute\n",
    "capability greater than 3.0, else you will need to use a CPU system."
   ]
  },
  {
   "cell_type": "code",
   "execution_count": 2,
   "metadata": {
    "collapsed": false,
    "jupyter": {
     "outputs_hidden": false
    },
    "pycharm": {
     "is_executing": false,
     "name": "#%%\n"
    }
   },
   "outputs": [
    {
     "name": "stderr",
     "output_type": "stream",
     "text": [
      "Using TensorFlow backend.\n"
     ]
    }
   ],
   "source": [
    "## Default GPU configuration so Keras uses the GPU. \n",
    "## Comment the next line out if you do not have a GPU.\n",
    "os.environ['CUDA_VISIBLE_DEVICES'] = \"0\" \n",
    "import tensorflow as tf\n",
    "from tensorflow.keras.backend import set_session\n",
    "\n",
    "## If you are getting memory errors with the GPU, uncommenting next line might help\n",
    "# config.gpu_options.per_process_gpu_memory_fraction = 0.5\n",
    "\n",
    "sess = tf.InteractiveSession()#(config=config)\n",
    "set_session(sess)\n",
    "\n",
    "from keras.optimizers import Adam, RMSprop\n",
    "from keras.models import Sequential\n",
    "from keras.layers import Dense, Activation, Flatten, Reshape, Permute\n",
    "from keras.layers import Conv1D,MaxPool1D #Conv2D, Conv2DTranspose, UpSampling2D\n",
    "from keras.layers import Conv2D, Dense, MaxPool2D, Flatten\n",
    "from keras.layers import LeakyReLU, Dropout, PReLU\n",
    "from keras.layers import BatchNormalization\n",
    "from keras.optimizers import Adam, RMSprop\n",
    "from keras.engine.topology import Layer\n",
    "import keras.backend as K"
   ]
  },
  {
   "cell_type": "markdown",
   "metadata": {},
   "source": [
    "## Classes and functions"
   ]
  },
  {
   "cell_type": "code",
   "execution_count": 3,
   "metadata": {
    "collapsed": false,
    "jupyter": {
     "outputs_hidden": false
    },
    "pycharm": {
     "is_executing": false,
     "name": "#%%\n"
    }
   },
   "outputs": [],
   "source": [
    "def time_it(func):\n",
    "    @functools.wraps(func)\n",
    "    def wrapper(*args, **kwargs):\n",
    "        t = time.time()\n",
    "        f = func(*args, **kwargs)\n",
    "        print('%s , dt = %.2g s' %(func.__name__,time.time()-t))\n",
    "        return f\n",
    "    return wrapper"
   ]
  },
  {
   "cell_type": "code",
   "execution_count": 4,
   "metadata": {
    "collapsed": false,
    "jupyter": {
     "outputs_hidden": false
    },
    "pycharm": {
     "is_executing": false,
     "name": "#%%\n"
    }
   },
   "outputs": [],
   "source": [
    "class TimeHistory(tf.keras.callbacks.Callback):\n",
    "    def on_train_begin(self, logs={}):\n",
    "        self.times = []\n",
    "\n",
    "    def on_epoch_begin(self, epoch, logs={}):\n",
    "        self.epoch_time_start = time.time()\n",
    "\n",
    "    def on_epoch_end(self, epoch, logs={}):\n",
    "        self.times.append(time.time() - self.epoch_time_start)\n",
    "\n",
    "class EpochHistory(tf.keras.callbacks.Callback):\n",
    "    def on_train_begin(self, logs={}):\n",
    "        self.acc = []\n",
    "        self.val_acc = []\n",
    "        self.best_weights = None\n",
    "        self.best_val_acc = 0\n",
    "\n",
    "    def on_epoch_end(self, epoch, logs={}):\n",
    "        self.acc.append(logs.get('acc'))\n",
    "        self.val_acc.append(logs.get('val_acc'))\n",
    "        print('Ep: %d\\tAcc: %.4f\\tVal. Acc: %.4f' % (epoch, self.acc[-1], self.val_acc[-1]))\n",
    "        if self.val_acc[-1] > self.best_val_acc:\n",
    "            self.best_val_acc = self.val_acc[-1]\n",
    "            print('Val Acc improved; getting weights')\n",
    "            self.best_weights = self.model.get_weights()\n",
    "            print('saving model')\n",
    "            self.model.save('superclass_test_deep_model_fig_20190516_SPP32.h5')  # %(self.model.__model_name__))"
   ]
  },
  {
   "cell_type": "markdown",
   "metadata": {},
   "source": [
    "### Spatial Pyramidal Pooling\n",
    "We have modified this code for our 1D data."
   ]
  },
  {
   "cell_type": "code",
   "execution_count": 5,
   "metadata": {
    "collapsed": false,
    "jupyter": {
     "outputs_hidden": false
    },
    "pycharm": {
     "is_executing": false,
     "name": "#%%\n"
    }
   },
   "outputs": [],
   "source": [
    "class SpatialPyramidPooling1D(Layer):\n",
    "    \"\"\"Spatial pyramid pooling layer for 2D inputs.\n",
    "    See Spatial Pyramid Pooling in Deep Convolutional Networks for Visual Recognition,\n",
    "    K. He, X. Zhang, S. Ren, J. Sun\n",
    "    # Arguments\n",
    "        pool_list: list of int\n",
    "            List of pooling regions to use. The length of the list is the number of pooling regions,\n",
    "            each int in the list is the number of regions in that pool. For example [1,2,4] would be 3\n",
    "            regions with 1, 2x2 and 4x4 max pools, so 21 outputs per feature map\n",
    "    # Input shape\n",
    "        3D tensor with shape:\n",
    "        `(samples, rows, channels)` if dim_ordering='tf'.\n",
    "    # Output shape\n",
    "        2D tensor with shape:\n",
    "        `(samples, channels * sum([i * i for i in pool_list])`\n",
    "    \"\"\"\n",
    "\n",
    "    def __init__(self, pool_list, **kwargs):\n",
    "\n",
    "        self.dim_ordering = K.image_dim_ordering()\n",
    "        assert self.dim_ordering in {'tf', 'th'}, 'dim_ordering must be in {tf, th}'\n",
    "        self.pool_list = pool_list\n",
    "        self.num_outputs_per_channel = sum([i for i in pool_list])\n",
    "\n",
    "        super(SpatialPyramidPooling1D, self).__init__(**kwargs)\n",
    "\n",
    "    def build(self, input_shape):\n",
    "        if self.dim_ordering == 'th':\n",
    "            self.nb_channels = input_shape[1]\n",
    "        elif self.dim_ordering == 'tf':\n",
    "            self.nb_channels = input_shape[-1]\n",
    "\n",
    "    def compute_output_shape(self, input_shape):\n",
    "        return (input_shape[0], self.nb_channels * self.num_outputs_per_channel)\n",
    "\n",
    "    def get_config(self):\n",
    "        config = {'pool_list': self.pool_list}\n",
    "        base_config = super(SpatialPyramidPooling1D, self).get_config()\n",
    "        return dict(list(base_config.items()) + list(config.items()))\n",
    "\n",
    "    def call(self, x, mask=None):\n",
    "        input_shape = K.shape(x)\n",
    "        if self.dim_ordering == 'th':\n",
    "            num_rows = input_shape[2]\n",
    "        elif self.dim_ordering == 'tf':\n",
    "            num_rows = input_shape[1]\n",
    "        row_length = [K.cast(num_rows, 'float32') / i for i in self.pool_list]\n",
    "\n",
    "        outputs = []\n",
    "        if self.dim_ordering == 'tf':\n",
    "            for pool_num, num_pool_regions in enumerate(self.pool_list):\n",
    "                for jy in range(num_pool_regions):\n",
    "                        y1 = jy * row_length[pool_num]\n",
    "                        y2 = jy * row_length[pool_num] + row_length[pool_num]\n",
    "                        y1 = K.cast(K.round(y1), 'int32')\n",
    "                        y2 = K.cast(K.round(y2), 'int32')\n",
    "                        new_shape = [input_shape[0], y2 - y1,\n",
    "                                     input_shape[-1]]\n",
    "                        x_crop = x[:, y1:y2, :]\n",
    "                        xm = K.reshape(x_crop, new_shape)\n",
    "                        pooled_val = K.max(xm, axis=(1,))\n",
    "                        outputs.append(pooled_val)\n",
    "        \n",
    "        else:\n",
    "            raise TypeError()\n",
    "\n",
    "        if self.dim_ordering == 'th':\n",
    "            outputs = K.concatenate(outputs)\n",
    "        elif self.dim_ordering == 'tf':\n",
    "            outputs = K.concatenate(outputs)\n",
    " \n",
    "        return outputs"
   ]
  },
  {
   "cell_type": "code",
   "execution_count": 6,
   "metadata": {
    "collapsed": false,
    "jupyter": {
     "outputs_hidden": false
    },
    "pycharm": {
     "is_executing": false,
     "name": "#%%\n"
    }
   },
   "outputs": [],
   "source": [
    "class DMN_Conv:\n",
    "    def __init__(self,input_tensor, kernel_size = (3,3), strides=(1,1), var_explained = 0.99, **kw):\n",
    "        self.kernel_size = list(kernel_size)\n",
    "        self.strides = list(strides)\n",
    "        self.input_tensor = input_tensor\n",
    "        self.get_patches()\n",
    "        self.get_rho()\n",
    "        self.get_eigs()\n",
    "        self.get_num_filters(var_explained)\n",
    "        self.make_weights()\n",
    "    \n",
    "    @time_it\n",
    "    def get_patches(self):\n",
    "        self.patches = tf.image.extract_image_patches( self.input_tensor, \n",
    "                ksizes = [1]+list(self.kernel_size)+[1],\n",
    "                strides = [1]+list(self.strides)+[1],\n",
    "                rates = [1,1,1,1], padding = 'VALID')    \n",
    "    \n",
    "    @time_it    \n",
    "    def get_rho(self):\n",
    "        \"\"\"To be able to update the eigenvectors later, we will keep the covariance matrix, instead of doing SVD directly. \n",
    "        In most cases since # of samples N >> dim this won't be much more costly than SVD\"\"\"\n",
    "        ims = tf.reshape(self.patches, [-1, self.patches.shape.as_list()[-1]])\n",
    "        self.rho = tf.matmul(ims, ims, transpose_a=True)\n",
    "    \n",
    "    @time_it\n",
    "    def get_eigs(self):\n",
    "        \"\"\"svd automatically finds SVs from largest to smallest, so no sorting is needed for PCA.\"\"\"\n",
    "        self.eigs = tf.svd(self.rho)\n",
    "    \n",
    "    @time_it    \n",
    "    def get_num_filters(self, v):\n",
    "#         ei = self.eigs[0].eval()\n",
    "#         ex = (ei / ei.sum()).cumsum()\n",
    "#         self.num_filters = (ex < v).sum()\n",
    "        c = tf.cumsum(self.eigs[0] )\n",
    "        c = c/ c[-1]\n",
    "        self.num_filters = tf.reduce_sum(tf.cast(c < v, dtype=tf.int32))\n",
    "\n",
    "    @time_it\n",
    "    def make_weights(self):\n",
    "        self.weights = tf.reshape(self.eigs[1], list(self.kernel_size) + [self.input_tensor.shape.as_list()[-1],-1,] )[..., :self.num_filters]\n",
    "\n",
    "\n",
    "def plot_ws(ws, idx='all'):\n",
    "    figure(figsize=(12,12))\n",
    "    n = ws.shape[-1]\n",
    "    r = np.ceil(np.sqrt(n))\n",
    "    for i in range(n):\n",
    "        subplot(r,r,i+1)\n",
    "        w = (ws[...,i] if idx == 'all' else ws[...,idx,i]) # ws.shape[-2]==3\n",
    "        imshow(w +.5, interpolation='bicubic')"
   ]
  },
  {
   "cell_type": "code",
   "execution_count": 7,
   "metadata": {
    "collapsed": false,
    "jupyter": {
     "outputs_hidden": false
    },
    "pycharm": {
     "is_executing": false,
     "name": "#%%\n"
    }
   },
   "outputs": [],
   "source": [
    "class DMN_Class_Data:\n",
    "    def __init__(self, x,y):\n",
    "        self.x, self.y = self.prep_input(x), np.asarray(y)\n",
    "        self.get_class_indices()\n",
    "        self.get_all_class_tensors()\n",
    "    \n",
    "    @time_it\n",
    "    def prep_input(self, x):\n",
    "        x = np.asarray((x if len(x.shape)==4 else x[...,newaxis]))\n",
    "        return (x-x[:2].min()) / x[:2].max() - 0.5\n",
    "    \n",
    "    @time_it\n",
    "    def get_all_class_tensors(self):\n",
    "        self.class_tensors = {c: tf.constant(self.x[self.classes[c]], tf.float32) for c in self.classes} \n",
    "        \n",
    "    @time_it\n",
    "    def get_class_indices(self):\n",
    "        self.classes = set(self.y.flatten())\n",
    "        self.classes = {}\n",
    "        for i, c in enumerate(self.y.flatten()):\n",
    "            self.classes.setdefault(c,[])\n",
    "            self.classes[c] += [i]"
   ]
  },
  {
   "cell_type": "code",
   "execution_count": 8,
   "metadata": {
    "collapsed": false,
    "jupyter": {
     "outputs_hidden": false
    },
    "pycharm": {
     "is_executing": false,
     "name": "#%%\n"
    }
   },
   "outputs": [],
   "source": [
    "class DMN_Layer:\n",
    "    def __init__(self, x,y, frac = 0.5, **kwargs):\n",
    "        self._n = int(frac*len(x))\n",
    "        self.Training_Data = DMN_Class_Data(x[:self._n],y[:self._n])\n",
    "        self.get_class_weights(**kwargs)\n",
    "        \n",
    "    @time_it\n",
    "    def get_class_weights(self, **kw):\n",
    "        self.class_weights = {}\n",
    "        for c, ten in self.Training_Data.class_tensors.items():\n",
    "            self.class_weights[c] = DMN_Conv(ten, **kw)\n",
    "        \n",
    "        "
   ]
  },
  {
   "cell_type": "code",
   "execution_count": 9,
   "metadata": {
    "collapsed": false,
    "jupyter": {
     "outputs_hidden": false
    },
    "pycharm": {
     "is_executing": false,
     "name": "#%%\n"
    }
   },
   "outputs": [],
   "source": [
    "def make_model_name(model):\n",
    "    mn = []\n",
    "    for l in model.layers:\n",
    "        nam = l.name\n",
    "        if 'conv' in nam:\n",
    "            s = 'Conv1D(%d,%d)'%((l.filters,)+l.kernel_size)  \n",
    "        elif 'max_pool' in nam:\n",
    "            s = 'MaxPool%d'%l.pool_size\n",
    "        elif 'dense' in nam:\n",
    "            s = 'Dense%d'%l.units\n",
    "        elif 'dropout' in nam:\n",
    "            s = 'Dropout%.1g'%l.rate\n",
    "        else:\n",
    "            continue\n",
    "        mn += [s]\n",
    "    return '-'.join(mn)\n",
    "\n",
    "class EpochHistory(tf.keras.callbacks.Callback):\n",
    "    def on_train_begin(self, logs={}):\n",
    "        self.acc = []\n",
    "        self.val_acc = []\n",
    "        self.best_weights = None\n",
    "        self.best_val_acc = 0\n",
    "\n",
    "    def on_epoch_end(self, epoch, logs={}):\n",
    "        self.acc.append(logs.get('acc'))\n",
    "        self.val_acc.append(logs.get('val_acc'))\n",
    "        print('Ep: %d\\tAcc: %.4f\\tVal. Acc: %.4f' %(epoch, self.acc[-1], self.val_acc[-1]) )\n",
    "        if self.val_acc[-1] > self.best_val_acc:\n",
    "            self.best_val_acc = self.val_acc[-1]\n",
    "            print('Val Acc improved; getting weights')\n",
    "            self.best_weights = self.model.get_weights()\n",
    "        \n"
   ]
  },
  {
   "cell_type": "code",
   "execution_count": 27,
   "metadata": {
    "collapsed": false,
    "jupyter": {
     "outputs_hidden": false
    },
    "pycharm": {
     "is_executing": false,
     "name": "#%%\n"
    }
   },
   "outputs": [],
   "source": [
    "class Train_Proteins:\n",
    "    def __init__(self,sequence_file = './data/training_validation/training_sequences.txt' ,\n",
    "                labels_file = './data/training_validation/labels.txt',\n",
    "                ontology_file = './data/training_validation/ontology_merged.txt'):\n",
    "        self.get_ontology(ontology_file)\n",
    "        print('Loading protein sequences...')\n",
    "        self.proteins = pd.read_csv(sequence_file, sep = '\\t')\n",
    "        print('Loading protein class data...')\n",
    "        self.patric = pd.read_csv(labels_file, sep = '\\t')\n",
    "        # Unfortunately, to compare patric and prot seq data we need to load both files into RAM... \n",
    "        \n",
    "        self.prep_seqs()\n",
    "        self.get_amino_acids()\n",
    "        self.set_seq_lengths()\n",
    "        self.compile_class_data(chosen_level)\n",
    "        \n",
    "    def get_ontology(self, ont_file):\n",
    "        \"\"\"mapping 'Subsystem' to other levels ('Superclass', 'Class', 'Subclass') \"\"\"\n",
    "        ont = pd.read_csv(ont_file, sep = '\\t')\n",
    "        self.ontology = {ont['Subsystem Merged'][i]: {k: str(ont[k][i]).strip() for k in ['Superclass', 'Class', 'Subclass']} \n",
    "                         for i in range(len(ont))}\n",
    "        \n",
    "        \n",
    "    @time_it    \n",
    "    def prep_seqs(self):\n",
    "        # index all gene patric ids\n",
    "        # ignore duplicates, we checked, the sequences are unique \n",
    "        print('preparing sequences...')\n",
    "        self.pid2index = {k:i for i, k in enumerate(self.patric['PATRIC ID'].values)}        \n",
    "        self.pseq_shared = {k:seq for k, seq in self.proteins.values if k in self.pid2index}\n",
    "\n",
    "    @time_it    \n",
    "    def get_amino_acids(self):\n",
    "        print('getting amino acid list...')\n",
    "        import string\n",
    "        self.amino_acids = {a:i for i,a in enumerate(string.ascii_uppercase+'_')} # '_':unknown stuff\n",
    "        print(self.amino_acids)\n",
    "\n",
    "    @time_it    \n",
    "    def set_seq_lengths(self, sigma = 3, viz=True):\n",
    "        print('calculating length truncation for sequences', end=', ' )\n",
    "        seq_lens = np.array([len(self.pseq_shared[k]) for k in self.pseq_shared])\n",
    "        self.min_seq_length = int(np.exp(np.log(seq_lens).mean()-sigma*np.log(seq_lens).std()))\n",
    "        self.max_seq_length = int(np.exp(np.log(seq_lens).mean()+sigma*np.log(seq_lens).std()))\n",
    "        print('Length = %d' %self.max_seq_length)\n",
    "        if viz:\n",
    "            h= plt.hist(np.log10(seq_lens), 100, log = 1)\n",
    "            plt.xlabel('log sequence length')\n",
    "            plt.ylabel('count')\n",
    "            plt.show()\n",
    "\n",
    "    def make_barcode(self, seq):\n",
    "        protein_barcodes = np.zeros((1950, len(self.amino_acids)), dtype = np.float16)\n",
    "        s = np.sqrt(len(self.amino_acids))\n",
    "        for i2,j in enumerate(seq[:1950]):\n",
    "            protein_barcodes[i2,self.amino_acids[j]] = 1/s\n",
    "        return protein_barcodes\n",
    "    \n",
    "    @time_it\n",
    "    def compile_class_data(self, class_level = 3, min_len ='auto'):\n",
    "        \"\"\"class_level:\n",
    "            0: Superclass, 1: Class, 2: Subclass, 3: Subsystem Name\n",
    "        min_len: minimum length of sequence to include.      \n",
    "        \"\"\"\n",
    "        min_len = (self.min_seq_length if min_len == 'auto' else min_len)\n",
    "        label = lambda i: '>'.join([str(j).strip() for j in i]) \n",
    "        \n",
    "        self.class_level = ['Superclass', 'Class', 'Subclass','Subsystem Merged'][:class_level+1]\n",
    "        \n",
    "        # instead of directly joining all levels, we will use the ontology\n",
    "        labs = []\n",
    "        missing = set()\n",
    "        for i in self.patric[['Superclass', 'Class', 'Subclass','Subsystem Merged']].values:\n",
    "            try:\n",
    "                sub_sys = self.ontology[i[-1]]\n",
    "                lab = label([sub_sys[k] for k in self.class_level[:3]])\n",
    "                if class_level == 3:\n",
    "                    lab += '>'+str(i[-1]).strip()\n",
    "                \n",
    "                labs += [lab]\n",
    "            except KeyError:\n",
    "                t = tuple(i)\n",
    "                if t not in missing:\n",
    "                    print(t)\n",
    "                    missing.add(t)\n",
    "        \n",
    "        s = set(labs)\n",
    "        \n",
    "        print(\"Compiling label information; level: %s\" %(self.class_level[class_level]))\n",
    "        self.patric_class_names_to_index = {k:i for i,k in enumerate(sorted(s))}\n",
    "        self.patric_id_to_class = {p:s for s,p in zip(labs, self.patric['PATRIC ID'].values) }\n",
    "        self.class_gene_list = {k:[] for k in self.patric_class_names_to_index}\n",
    "        for p in self.pseq_shared: \n",
    "            if len(self.pseq_shared[p]) < min_len: continue\n",
    "            try:\n",
    "                self.class_gene_list[self.patric_id_to_class[p]] += [p]\n",
    "            except KeyError:\n",
    "                continue\n",
    "        self.class_sizes = {k:len(v) for k,v in self.class_gene_list.items()}\n",
    "        # to create training batches, we should keep consistent indices\n",
    "        self.rand_indices = {k: np.argsort(np.random.rand(self.class_sizes[k])) for k in self.class_sizes}\n",
    "        self.batch_num = 0\n",
    " \n",
    "    @time_it\n",
    "    def make_training_data(self, batch_size = 120000):\n",
    "        y_train = []\n",
    "        self.X_train = []\n",
    "        self.X_train_ids = []\n",
    "\n",
    "        m = batch_size / len(self.class_gene_list)\n",
    "\n",
    "        for k in self.class_gene_list:\n",
    "            # choose at most m genes randomly\n",
    "            numGenesToSelect=min(int(m), len(self.class_gene_list[k]))\n",
    "            numGenesInCategory=len(self.class_gene_list[k])\n",
    "            \n",
    "            geneIndices=random.sample(range(0, numGenesInCategory), numGenesToSelect)\n",
    "            \n",
    "            for i in geneIndices:\n",
    "                g = self.class_gene_list[k][i]\n",
    "                self.X_train_ids += [g]\n",
    "                y_train += [self.patric_class_names_to_index[self.patric_id_to_class[g]]]\n",
    "                self.X_train += [self.make_barcode(self.pseq_shared[g]) ] \n",
    "\n",
    "        idx1 = np.argsort(np.random.rand(len(y_train))) \n",
    "        self.geneIndices = geneIndices\n",
    "        self.IDX1 = idx1\n",
    "        self.X_train = np.array(self.X_train)[idx1]\n",
    "        self.X_train_ids = np.array(self.X_train_ids)[idx1]\n",
    "        \n",
    "        self.Y_train = tf.keras.utils.to_categorical(y_train, num_classes=len(self.patric_class_names_to_index))[idx1]\n",
    "        \n",
    "\n"
   ]
  },
  {
   "cell_type": "markdown",
   "metadata": {},
   "source": [
    "# Create training data\n",
    "Training and validation data are housed in separate files"
   ]
  },
  {
   "cell_type": "code",
   "execution_count": 29,
   "metadata": {
    "collapsed": false,
    "jupyter": {
     "outputs_hidden": false
    },
    "pycharm": {
     "is_executing": false,
     "name": "#%%\n"
    }
   },
   "outputs": [
    {
     "name": "stdout",
     "output_type": "stream",
     "text": [
      "Loading protein sequences...\n",
      "Loading protein class data...\n",
      "preparing sequences...\n",
      "prep_seqs , dt = 0.019 s\n",
      "getting amino acid list...\n",
      "{'A': 0, 'B': 1, 'C': 2, 'D': 3, 'E': 4, 'F': 5, 'G': 6, 'H': 7, 'I': 8, 'J': 9, 'K': 10, 'L': 11, 'M': 12, 'N': 13, 'O': 14, 'P': 15, 'Q': 16, 'R': 17, 'S': 18, 'T': 19, 'U': 20, 'V': 21, 'W': 22, 'X': 23, 'Y': 24, 'Z': 25, '_': 26}\n",
      "get_amino_acids , dt = 4.7e-05 s\n",
      "calculating length truncation for sequences, Length = 2107\n"
     ]
    },
    {
     "data": {
      "image/png": "[encoded data removed]",
      "text/plain": [
       "<Figure size 432x288 with 1 Axes>"
      ]
     },
     "metadata": {
      "image/png": {
       "height": 261,
       "width": 387
      },
      "needs_background": "light"
     },
     "output_type": "display_data"
    },
    {
     "name": "stdout",
     "output_type": "stream",
     "text": [
      "set_seq_lengths , dt = 0.57 s\n",
      "Compiling label information; level: Subsystem Merged\n",
      "compile_class_data , dt = 0.057 s\n",
      "Loading protein sequences...\n",
      "Loading protein class data...\n",
      "preparing sequences...\n",
      "prep_seqs , dt = 0.0056 s\n",
      "getting amino acid list...\n",
      "{'A': 0, 'B': 1, 'C': 2, 'D': 3, 'E': 4, 'F': 5, 'G': 6, 'H': 7, 'I': 8, 'J': 9, 'K': 10, 'L': 11, 'M': 12, 'N': 13, 'O': 14, 'P': 15, 'Q': 16, 'R': 17, 'S': 18, 'T': 19, 'U': 20, 'V': 21, 'W': 22, 'X': 23, 'Y': 24, 'Z': 25, '_': 26}\n",
      "get_amino_acids , dt = 0.00036 s\n",
      "calculating length truncation for sequences, Length = 1963\n"
     ]
    },
    {
     "data": {
      "image/png": "[encoded data removed]",
      "text/plain": [
       "<Figure size 432x288 with 1 Axes>"
      ]
     },
     "metadata": {
      "image/png": {
       "height": 261,
       "width": 387
      },
      "needs_background": "light"
     },
     "output_type": "display_data"
    },
    {
     "name": "stdout",
     "output_type": "stream",
     "text": [
      "set_seq_lengths , dt = 0.57 s\n",
      "Compiling label information; level: Subsystem Merged\n",
      "compile_class_data , dt = 0.051 s\n"
     ]
    }
   ],
   "source": [
    "## Assign files\n",
    "training_sequence_file = './data/training_validation/training_sequences.txt'\n",
    "validation_sequence_file = './data/training_validation/test_sequences.txt'\n",
    "labels_file = './data/training_validation/labels.txt'\n",
    "\n",
    "# training_sequence_file = '/home/fish0208/amazons3/protclass/patricdata/training/FinalDataFiles/train_aaseq_fig_only_over30aa.txt'\n",
    "# validation_sequence_file = '/home/fish0208/amazons3/protclass/patricdata/training/FinalDataFiles/validation_aaseq_fig_only_over30aa.txt'\n",
    "# labels_file = '/home/fish0208/amazons3/protclass/patricdata/training/FinalDataFiles/ssid_universal_190612_lowfreq_andAA_cut.txt'\n",
    "\n",
    "## Choose level. 0 = Superclass, 1 = Class, 2 = Subclass, 3 = Subsystem\n",
    "chosen_level = 3\n",
    "\n",
    "## Create data for training and testing\n",
    "training = Train_Proteins(sequence_file=training_sequence_file, labels_file=labels_file)\n",
    "validation = Train_Proteins(sequence_file=validation_sequence_file, labels_file=labels_file)"
   ]
  },
  {
   "cell_type": "code",
   "execution_count": 32,
   "metadata": {
    "collapsed": false,
    "jupyter": {
     "outputs_hidden": false
    },
    "pycharm": {
     "is_executing": false,
     "name": "#%%\n"
    }
   },
   "outputs": [
    {
     "name": "stdout",
     "output_type": "stream",
     "text": [
      "make_training_data , dt = 3.5 s\n",
      "make_training_data , dt = 0.52 s\n"
     ]
    }
   ],
   "source": [
    "## Make training and validation data. \n",
    "## Note: dataset creation is nonlinear in memory. More than 40,000 sequences can start to get RAM heavy.\n",
    "## Set different minimum sequence length if desired (current is 30).\n",
    "\n",
    "# training.compile_class_data(min_len=30)\n",
    "# validation.compile_class_data(min_len=30)\n",
    "\n",
    "number_training_sequences = 12560\n",
    "number_validation_sequences = 2512\n",
    "\n",
    "training.make_training_data(number_training_sequences)\n",
    "validation.make_training_data(number_validation_sequences)"
   ]
  },
  {
   "cell_type": "markdown",
   "metadata": {},
   "source": [
    "### Visualise a barcode"
   ]
  },
  {
   "cell_type": "code",
   "execution_count": null,
   "metadata": {
    "collapsed": false,
    "jupyter": {
     "outputs_hidden": false
    },
    "pycharm": {
     "is_executing": false,
     "name": "#%%\n"
    }
   },
   "outputs": [],
   "source": [
    "index = 10 # change index to see a different protein if it's boring\n",
    "\n",
    "H=training.X_train[index]\n",
    "H=H.astype(float64)\n",
    "H=H.transpose()\n",
    "\n",
    "fig, ax = plt.subplots()\n",
    "im = ax.imshow(H,aspect=10)\n",
    "plt.figure(figsize=(10,5))\n",
    "ax.set_ylabel('AA label')\n",
    "ax.set_xlabel('AA position')\n",
    "plt.show()\n"
   ]
  },
  {
   "cell_type": "markdown",
   "metadata": {},
   "source": [
    "# Model setup and training"
   ]
  },
  {
   "cell_type": "code",
   "execution_count": null,
   "metadata": {
    "collapsed": false,
    "jupyter": {
     "outputs_hidden": false
    },
    "pycharm": {
     "is_executing": false,
     "name": "#%%\n"
    }
   },
   "outputs": [],
   "source": [
    "## Parameters\n",
    "num_filters = 2 ** 9\n",
    "pool_list = [1, 4, 16, 32]  # Spatial pyramidal pooling layers\n",
    "\n",
    "ps = 2\n",
    "kernel_size = 100\n",
    "ep_hist2 = EpochHistory()\n",
    "pool = max(2, int(kernel_size / ps))  \n",
    "\n",
    "## Keras Sequential model\n",
    "model = Sequential()\n",
    "model.add(Conv1D(num_filters, kernel_size=kernel_size, activation='relu', \n",
    "                  input_shape=validation.X_train[0].shape))\n",
    "model.add(SpatialPyramidPooling1D(pool_list))  # , dim_ordering='tf'))\n",
    "model.add(Dropout(0.2))\n",
    "model.add(Dense(validation.Y_train.shape[-1], activation='softmax'))\n",
    "model.compile(loss='categorical_crossentropy', optimizer='adam', metrics=['accuracy'])\n",
    "\n",
    "\n",
    "\n",
    "print(model.summary())\n",
    "\n",
    "## Initiate model\n",
    "sc_len = np.array([[k, len(v)] for k, v in training.class_gene_list.items()])\n",
    "l = np.int0(sc_len[:, 1]).sum()\n",
    "\n",
    "## Weights can either be loaded from a pretrained model or set to a weighted average if you want to start from scratch \n",
    "## uncomment next two lines to train from scratch\n",
    "\n",
    "# sc_len = np.array([[k,len(v)] for k,v in validation.class_gene_list.items()])\n",
    "## weights = {training.patric_class_names_to_index[c]: l / (int(n)+1) for c, n in sc_len}"
   ]
  },
  {
   "cell_type": "code",
   "execution_count": null,
   "metadata": {
    "pycharm": {
     "is_executing": false
    }
   },
   "outputs": [],
   "source": [
    "## Selects weights to load based on your chosen class level\n",
    "\n",
    "shallow_model_files = ['models/superclass.h5', 'models/class.h5', 'models/subclass.h5', 'models/subsystem.h5']\n",
    "\n",
    "model.load_weights(shallow_model_files[chosen_level])"
   ]
  },
  {
   "cell_type": "markdown",
   "metadata": {},
   "source": [
    "## Train model\n",
    "Uncomment section below to train (if the dataset you use is small, you might decrease the accuracy)."
   ]
  },
  {
   "cell_type": "code",
   "execution_count": null,
   "metadata": {
    "collapsed": false,
    "jupyter": {
     "outputs_hidden": false
    },
    "pycharm": {
     "is_executing": false,
     "name": "#%%\n"
    }
   },
   "outputs": [],
   "source": [
    "acc2 = [] \n",
    "val_acc2 = []\n",
    "\n",
    "# try:\n",
    "#     acc2 += ep_hist2.acc\n",
    "#     val_acc2 += ep_hist2.val_acc\n",
    "# except AttributeError:\n",
    "#     pass\n",
    "# time_callback = TimeHistory()\n",
    "# model.fit(training.X_train, training.Y_train, \n",
    "#                validation_data=(validation.X_train, validation.Y_train), \n",
    "#                epochs=12, callbacks=[ep_hist2], verbose=1)"
   ]
  },
  {
   "cell_type": "markdown",
   "metadata": {},
   "source": [
    "# Predictions and results\n",
    "#### Get model predictions"
   ]
  },
  {
   "cell_type": "code",
   "execution_count": null,
   "metadata": {
    "collapsed": false,
    "jupyter": {
     "outputs_hidden": false
    },
    "pycharm": {
     "is_executing": false,
     "name": "#%%\n"
    }
   },
   "outputs": [],
   "source": [
    "## Get index information\n",
    "sc_len = np.array([[k, len(v)] for k, v in validation.class_gene_list.items()])\n",
    "l = np.int0(sc_len[:, 1]).sum()\n",
    "\n",
    "## Run predictions\n",
    "start_time = timeit.default_timer()\n",
    "pred = model.predict(validation.X_train[-l:])  \n",
    "elapsed = timeit.default_timer() - start_time\n",
    "print('Time elapsed for predictions was',elapsed)"
   ]
  },
  {
   "cell_type": "markdown",
   "metadata": {},
   "source": [
    "#### Assess the (complete) results"
   ]
  },
  {
   "cell_type": "code",
   "execution_count": null,
   "metadata": {
    "collapsed": false,
    "jupyter": {
     "outputs_hidden": false
    },
    "pycharm": {
     "is_executing": false,
     "name": "#%%\n"
    }
   },
   "outputs": [],
   "source": [
    "true_classes=validation.Y_train[-l:].argmax(axis=-1)\n",
    "pred_classes = pred.argmax(axis=-1)\n",
    "\n",
    "## Create the confusion matrix and classification report \n",
    "C=confusion_matrix(true_classes, pred_classes)\n",
    "target_names = pd.DataFrame(validation.patric_class_names_to_index, index=[0]).columns.values"
   ]
  },
  {
   "cell_type": "code",
   "execution_count": null,
   "metadata": {
    "collapsed": false,
    "jupyter": {
     "outputs_hidden": false
    },
    "pycharm": {
     "is_executing": false,
     "name": "#%%\n"
    }
   },
   "outputs": [],
   "source": [
    "## Look at the f1-score and classification report\n",
    "f1=f1_score(true_classes, pred_classes, average='weighted')\n",
    "predictions_report=classification_report(true_classes, pred_classes,digits=4)\n",
    "\n",
    "print('The f1-score is',f1)\n",
    "# print(predictions_report)"
   ]
  },
  {
   "cell_type": "markdown",
   "metadata": {},
   "source": [
    "#### Get high confidence predictions only"
   ]
  },
  {
   "cell_type": "code",
   "execution_count": null,
   "metadata": {
    "collapsed": false,
    "jupyter": {
     "outputs_hidden": false
    },
    "pycharm": {
     "is_executing": false,
     "name": "#%%\n"
    }
   },
   "outputs": [],
   "source": [
    "## Choose a confidence threshhold\n",
    "conf_threshhold = 0.99\n",
    "\n",
    "\n",
    "## extract the data\n",
    "pred_rank = argsort(pred)\n",
    "confidence = array([p[i] for p,i in zip(pred, pred_rank[:,-1])])\n",
    "idx = where(confidence > conf_threshhold)\n",
    "\n",
    "\n",
    "true_classes_highconf=validation.Y_train[-l:][idx].argmax(axis=-1)\n",
    "pred_classes_highconf = pred[idx].argmax(axis=-1)\n",
    "\n",
    "\n",
    "print('Confidence %.2f \\n Fraction of data covered %.3f' % (conf_threshhold, len(idx[0])/len(confidence)))"
   ]
  },
  {
   "cell_type": "code",
   "execution_count": null,
   "metadata": {
    "collapsed": false,
    "jupyter": {
     "outputs_hidden": false
    },
    "pycharm": {
     "is_executing": false,
     "name": "#%%\n"
    }
   },
   "outputs": [],
   "source": [
    "## Get confusion matrix, classification report, and f1-score\n",
    "## Note that with small sample sizes, a high confidence threshhold may result in some classes having no sequences in them. In this case, Scikit-learn will show a warning.\n",
    "\n",
    "high_conf_confusion = confusion_matrix(true_classes_highconf, pred_classes_highconf)\n",
    "target_names = pd.DataFrame(validation.patric_class_names_to_index, index=[0]).columns.values\n",
    "\n",
    "high_conf_classification_report = classification_report(true_classes_highconf, pred_classes_highconf, digits=4)\n",
    "high_conf_f1 = f1_score(true_classes[idx], pred_classes[idx], average='weighted')\n",
    "\n",
    "print('High confidence f1-score is',high_conf_f1)\n",
    "# print(high_conf_classification_report)"
   ]
  },
  {
   "cell_type": "markdown",
   "metadata": {},
   "source": [
    "## Deep Architecture\n",
    "This is the code for the deep architecture. You can run the next two cells and then go back to the predictions section."
   ]
  },
  {
   "cell_type": "code",
   "execution_count": null,
   "metadata": {
    "pycharm": {
     "is_executing": false
    }
   },
   "outputs": [],
   "source": [
    "## Choose model file based on your chosen level\n",
    "\n",
    "deep_model_files = ['models/deep_superclass.h5', 'models/deep_class.h5', 'models/deep_subclass.h5', 'models/deep_subsystem.h5']\n",
    "\n",
    "deep_model_weights = deep_model_files[chosen_level]"
   ]
  },
  {
   "cell_type": "code",
   "execution_count": null,
   "metadata": {
    "collapsed": false,
    "jupyter": {
     "outputs_hidden": false
    },
    "pycharm": {
     "is_executing": false,
     "name": "#%%\n"
    }
   },
   "outputs": [],
   "source": [
    "# We want two convolutional layers with 25 and 200 filters. First try one \n",
    "nf = 2**7\n",
    "# kernel_size = 100 #25\n",
    "# pool = int(kernel_size /3) # int(kernel_size/2)\n",
    "\n",
    "ps = 2\n",
    "# for ps in range(2,5):\n",
    "kernel_size = 100\n",
    "ep_hist = EpochHistory()\n",
    "\n",
    "model = Sequential()\n",
    "\n",
    "model.add(Conv1D(nf, kernel_size = 6, input_shape = training.X_train[0].shape))\n",
    "model.add((PReLU()))\n",
    "model.add(BatchNormalization(scale=False))\n",
    "\n",
    "model.add(Conv1D(nf, kernel_size = 6))\n",
    "model.add((PReLU()))\n",
    "model.add(BatchNormalization(scale=False))\n",
    "model.add(MaxPool1D(pool_size=2, strides=2 ))\n",
    "\n",
    "model.add(Conv1D(nf*2, kernel_size = 5))\n",
    "model.add((PReLU()))\n",
    "model.add(BatchNormalization(scale=False))\n",
    "model.add(MaxPool1D(pool_size=2, strides=2 ))\n",
    "\n",
    "model.add(Conv1D(nf*2, kernel_size = 5))\n",
    "model.add((PReLU()))\n",
    "model.add(BatchNormalization(scale=False))\n",
    "model.add(MaxPool1D(pool_size=2, strides=2 ))\n",
    "\n",
    "model.add(Conv1D(nf*4, kernel_size = 5))\n",
    "model.add((PReLU()))\n",
    "model.add(BatchNormalization(scale=False))\n",
    "model.add(MaxPool1D(pool_size=2, strides=2 ))\n",
    "\n",
    "model.add(Conv1D(nf*4, kernel_size = 5))\n",
    "model.add((PReLU()))\n",
    "model.add(BatchNormalization(scale=False))\n",
    "model.add(MaxPool1D(pool_size=2, strides=2 ))\n",
    "\n",
    "# model.add(Permute((2,1)))\n",
    "# model.add(Reshape((512,1,52)))\n",
    "model.add(SpatialPyramidPooling1D([1,4,16])) #, dim_ordering='tf'))\n",
    "\n",
    "# model.add(Flatten())\n",
    "model.add(Dense(nf*8))\n",
    "model.add((PReLU()))\n",
    "model.add(Dropout(0.5))\n",
    "\n",
    "model.add(BatchNormalization(scale=True))\n",
    "model.add(Dense(training.Y_train.shape[-1], activation='softmax'))\n",
    "\n",
    "\n",
    "model.compile(loss='categorical_crossentropy', optimizer='adam',metrics=['accuracy'])\n",
    "\n",
    "model.load_weights(deep_model_weights)\n",
    "model.summary()\n",
    "\n"
   ]
  },
  {
   "cell_type": "code",
   "execution_count": null,
   "metadata": {
    "collapsed": false,
    "jupyter": {
     "outputs_hidden": false
    },
    "pycharm": {
     "is_executing": false,
     "name": "#%%\n"
    }
   },
   "outputs": [],
   "source": []
  }
 ],
 "metadata": {
  "kernelspec": {
   "display_name": "Python 3",
   "language": "python",
   "name": "python3"
  },
  "language_info": {
   "codemirror_mode": {
    "name": "ipython",
    "version": 3
   },
   "file_extension": ".py",
   "mimetype": "text/x-python",
   "name": "python",
   "nbconvert_exporter": "python",
   "pygments_lexer": "ipython3",
   "version": "3.7.3"
  },
  "pycharm": {
   "stem_cell": {
    "cell_type": "raw",
    "metadata": {
     "collapsed": false
    },
    "source": []
   }
  }
 },
 "nbformat": 4,
 "nbformat_minor": 4
}
